{
 "cells": [
  {
   "cell_type": "markdown",
   "metadata": {},
   "source": [
    "## Topic Modeling Workshop\n",
    "\n",
    "https://docs.google.com/presentation/d/1KQu7nzh9CodEq59mD4g_ICKbyDYXC-CXY1oaR-xAhmI/edit#slide=id.ga9b215a5a5_0_64"
   ]
  },
  {
   "cell_type": "markdown",
   "metadata": {},
   "source": [
    "### Defintion:"
   ]
  },
  {
   "cell_type": "markdown",
   "metadata": {},
   "source": [
    "A topic modeling topic takes a single text (or corpus) and looks for patterns in the use of words\n"
   ]
  },
  {
   "cell_type": "markdown",
   "metadata": {},
   "source": [
    "### Notes:"
   ]
  },
  {
   "cell_type": "markdown",
   "metadata": {},
   "source": [
    "#### LDA\n",
    "\n",
    "Texts > stopwords > tokens (as topics)\n",
    "\n",
    "looks at groups of words, and calculates the probability would appear in each document\n",
    "\n",
    "overview of topics that often appear together, and the probability that each topic will appear in each topic"
   ]
  },
  {
   "cell_type": "markdown",
   "metadata": {},
   "source": [
    "#### Preparing Corpus\n",
    "\n",
    "- what does my corpus represent? \n",
    "    - geography\n",
    "    - authors (users)\n",
    "    - Time period\n",
    "    - Event vs. representation of the event \n",
    "        - learn how the information is represented in text but does not give information about the event itself\n",
    "        \n",
    "        \n",
    "    \n",
    "- Plan for tokenization\n",
    "    - regularization names\n",
    "    - condensing two-word place names (New York > NewYork)\n",
    "    - customizing stop word list\n",
    "    - Word stems in different tools (SpaCy capable of this?)\n",
    "    \n",
    "    \n",
    "- Create strategic file names\n",
    "    - Date first if interested in change over time (I think this is already done in the JSON files from slack)\n",
    "    \n",
    "    \n",
    "- Prepare for multi-method analysis\n",
    "    - track metadata to correlate patterns across tools (spreadsheet?)"
   ]
  },
  {
   "cell_type": "markdown",
   "metadata": {},
   "source": [
    "### Tips and Tricks"
   ]
  },
  {
   "cell_type": "markdown",
   "metadata": {},
   "source": [
    "- Keep an unmodified version of your original corpus\n",
    "- Organize files in a way that helps you document each iteration\n",
    "    - Date you ran analysis\n",
    "- Document each iteration\n",
    "    - changes made during data cleaning\n",
    "    - Number of topics\n",
    "    - Words per topic\n",
    "- Identify your audience for this project\n",
    "    - how much detail about the method does my audience need?\n",
    "    - Do I need collaborators?"
   ]
  },
  {
   "cell_type": "markdown",
   "metadata": {},
   "source": [
    "- tokenization question, replace with one idenitier (the hyperlinks, user names, other parts that need stand ins)\n",
    "- math notation - replace all math noation with standard block\n",
    "- character based languages (find particular stopwords lists)\n",
    "- if topic model can recognize distinct parts as tokens\n",
    "- how representive is my corpus (methods section)"
   ]
  },
  {
   "cell_type": "markdown",
   "metadata": {},
   "source": [
    "**Length of text also matters. Ideal is that text is uniform in length.**"
   ]
  },
  {
   "cell_type": "markdown",
   "metadata": {},
   "source": [
    "**topic modeling is most helpful for exploratory analysis**"
   ]
  },
  {
   "cell_type": "markdown",
   "metadata": {},
   "source": [
    "#### LSA\n",
    "\n",
    "Latent Semantic Analysis (in R)\n",
    "\n",
    "don't have to strip stopwords\n",
    "\n",
    "Voice and semantics - use this method"
   ]
  },
  {
   "cell_type": "code",
   "execution_count": null,
   "metadata": {},
   "outputs": [],
   "source": []
  }
 ],
 "metadata": {
  "kernelspec": {
   "display_name": "Python 3",
   "language": "python",
   "name": "python3"
  },
  "language_info": {
   "codemirror_mode": {
    "name": "ipython",
    "version": 3
   },
   "file_extension": ".py",
   "mimetype": "text/x-python",
   "name": "python",
   "nbconvert_exporter": "python",
   "pygments_lexer": "ipython3",
   "version": "3.7.3"
  }
 },
 "nbformat": 4,
 "nbformat_minor": 4
}
